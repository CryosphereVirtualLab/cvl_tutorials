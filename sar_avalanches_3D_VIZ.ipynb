{
 "cells": [
  {
   "cell_type": "markdown",
   "metadata": {},
   "source": [
    "# Collocate data on avalanches and digital elevation model (DEM)"
   ]
  },
  {
   "cell_type": "code",
   "execution_count": null,
   "metadata": {},
   "outputs": [],
   "source": [
    "url_avalanches = 'https://thredds.met.no/thredds/fileServer/arcticdata/infranor/norceavalanche/SAR-avalanche-detections-20211101-20220531.geojson'\n",
    "url_dem = 'https://api.npolar.no/dataset/a660ff0c-c013-4592-a9a0-e1f3509f7fe0/_file/_all/?filename&format=zip'\n"
   ]
  },
  {
   "cell_type": "code",
   "execution_count": null,
   "metadata": {},
   "outputs": [],
   "source": [
    "# Install the CVL server https://github.com/CryosphereVirtualLab/cvl-3d-viz\n",
    "!pip install install git+https://github.com/CryosphereVirtualLab/cvl-3d-viz#egg=cvl-3d-viz"
   ]
  },
  {
   "cell_type": "code",
   "execution_count": null,
   "metadata": {},
   "outputs": [],
   "source": [
    "# Clone the repository for convenience\n",
    "!git clone https://github.com/CryosphereVirtualLab/cvl-3d-viz.git"
   ]
  },
  {
   "cell_type": "code",
   "execution_count": null,
   "metadata": {},
   "outputs": [],
   "source": [
    "# Generate certificates for running the CVL server\n",
    "!openssl req -x509 -nodes -days 730 -newkey rsa:2048 -keyout key.pem -out cert.pem -config cvl-3d-viz/cvl/localhost-ssl.conf"
   ]
  },
  {
   "cell_type": "code",
   "execution_count": null,
   "metadata": {},
   "outputs": [],
   "source": [
    "# Start local CVL server\n",
    "from subprocess import call\n",
    "call('python cvl-3d-viz/cvl/server.py > cvlserver.log 2>&1 &', shell=True)"
   ]
  },
  {
   "cell_type": "markdown",
   "metadata": {},
   "source": [
    "Visit https://localhost:3193/trust and allow insecure connection."
   ]
  },
  {
   "cell_type": "code",
   "execution_count": null,
   "metadata": {},
   "outputs": [],
   "source": [
    "import json\n",
    "import requests\n",
    "\n",
    "from IPython.display import IFrame\n",
    "import numpy as np\n",
    "from osgeo import gdal\n",
    "\n",
    "from cvl.viz import viz, VBO"
   ]
  },
  {
   "cell_type": "code",
   "execution_count": null,
   "metadata": {},
   "outputs": [],
   "source": [
    "# Access the avalanches data from the CVL web-page\n",
    "r = requests.get(url_avalanches, allow_redirects=True)\n",
    "j = json.loads(r.content)\n",
    "coords = np.vstack([f['geometry']['coordinates'][0] for f in j['features']])\n",
    "print(coords.shape)\n",
    "print(coords[:10])"
   ]
  },
  {
   "cell_type": "code",
   "execution_count": null,
   "metadata": {},
   "outputs": [],
   "source": [
    "# Download DEM from NPI\n",
    "call(['curl', '-o', 'dem.zip', url_dem])"
   ]
  },
  {
   "cell_type": "code",
   "execution_count": null,
   "metadata": {},
   "outputs": [],
   "source": [
    "# Unzip DEM\n",
    "call(['unzip', '-o', 'dem.zip'])\n",
    "call(['unzip', '-o', 'S0_DTM20_NP-ArcticDEM-Mosaic.zip'])"
   ]
  },
  {
   "cell_type": "code",
   "execution_count": null,
   "metadata": {},
   "outputs": [],
   "source": [
    "# Read array with DEM\n",
    "ds = gdal.Open('S0_DTM20_NP_ArcticDEM_Mosaic_20191216.tif')\n",
    "dem = ds.ReadAsArray()"
   ]
  },
  {
   "cell_type": "code",
   "execution_count": null,
   "metadata": {},
   "outputs": [],
   "source": [
    "# Convert coordinates of avalanche detections from UTM33 to rows and columns of DEM\n",
    "# GetGeoTransform returns coefficient for computing X and Y from row and column\n",
    "# InvGeoTransform computes the coefficients for the inverse task: compute row and column from input X and Y\n",
    "inv_geo_trans = gdal.InvGeoTransform(ds.GetGeoTransform())\n",
    "cols = (inv_geo_trans[0] + inv_geo_trans[1] * coords[:,0] + inv_geo_trans[2] * coords[:,1]).astype(int)\n",
    "rows = (inv_geo_trans[3] + inv_geo_trans[4] * coords[:,0] + inv_geo_trans[5] * coords[:,1]).astype(int)"
   ]
  },
  {
   "cell_type": "code",
   "execution_count": null,
   "metadata": {},
   "outputs": [],
   "source": [
    "# Create array for visualisation with x, y, z coordinates\n",
    "height = dem[rows, cols] + 10\n",
    "points = np.vstack([coords.T, height]).T\n",
    "print(points.shape)\n",
    "print(points[:10])"
   ]
  },
  {
   "cell_type": "code",
   "execution_count": null,
   "metadata": {},
   "outputs": [],
   "source": [
    "# Create an object for interaction with the CVL display\n",
    "visualizer = viz()"
   ]
  },
  {
   "cell_type": "code",
   "execution_count": null,
   "metadata": {},
   "outputs": [],
   "source": [
    "# Open the CVL display\n",
    "IFrame('https://nlive.norceresearch.no/cvl/', 1000, 1000)"
   ]
  },
  {
   "cell_type": "code",
   "execution_count": null,
   "metadata": {},
   "outputs": [],
   "source": [
    "# Show the avalanche detections\n",
    "vbo = VBO('points', projection=32633)\n",
    "vbo.set_vertex(points[::10])\n",
    "\n",
    "visualizer.publish_vbo('Avalanche detections', { \"path\" : \"Avalanche\" }, vbo)"
   ]
  },
  {
   "cell_type": "code",
   "execution_count": null,
   "metadata": {},
   "outputs": [],
   "source": [
    "visualizer.look_at([15.689318737610086, 78.27205149275611, 3000], [15.639318737610086, 78.22205149275611, 0], 1)"
   ]
  },
  {
   "cell_type": "code",
   "execution_count": null,
   "metadata": {},
   "outputs": [],
   "source": []
  }
 ],
 "metadata": {
  "kernelspec": {
   "display_name": "Python 3 (ipykernel)",
   "language": "python",
   "name": "python3"
  },
  "language_info": {
   "codemirror_mode": {
    "name": "ipython",
    "version": 3
   },
   "file_extension": ".py",
   "mimetype": "text/x-python",
   "name": "python",
   "nbconvert_exporter": "python",
   "pygments_lexer": "ipython3",
   "version": "3.11.6"
  }
 },
 "nbformat": 4,
 "nbformat_minor": 4
}
